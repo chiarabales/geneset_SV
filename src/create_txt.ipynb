{
 "cells": [
  {
   "cell_type": "code",
   "execution_count": 9,
   "metadata": {},
   "outputs": [
    {
     "name": "stdout",
     "output_type": "stream",
     "text": [
      "python __example.py --geneset='KEGG' --ordering='SV'\n",
      "\n",
      "python __example.py --geneset='KEGG' --ordering='PO'\n",
      "\n",
      "python __example.py --geneset='KEGG' --ordering='POR'\n",
      "\n",
      "python __example.py --geneset='KEGG' --ordering='AO'\n",
      "\n",
      "python __example.py --geneset='KEGG' --ordering='AOR'\n",
      "\n"
     ]
    }
   ],
   "source": [
    "import numpy as np\n",
    "\n",
    "data = ['KEGG']\n",
    "\n",
    "orderings = ['SV','PO','POR', 'AO', 'AOR']\n",
    "\n",
    "\n",
    "\n",
    "for _data in data:\n",
    "    my_file = open(f\"_prova_{_data}.txt\", \"w\")\n",
    "    for ordering in orderings:\n",
    "        string = f'python __example.py --geneset=\\'{_data}\\' --ordering=\\'{ordering}\\'\\n'\n",
    "        print(string)\n",
    "        my_file.write(string)\n",
    "    my_file.close()\n"
   ]
  },
  {
   "cell_type": "code",
   "execution_count": null,
   "metadata": {},
   "outputs": [],
   "source": []
  }
 ],
 "metadata": {
  "kernelspec": {
   "display_name": "Python 3",
   "language": "python",
   "name": "python3"
  },
  "language_info": {
   "codemirror_mode": {
    "name": "ipython",
    "version": 3
   },
   "file_extension": ".py",
   "mimetype": "text/x-python",
   "name": "python",
   "nbconvert_exporter": "python",
   "pygments_lexer": "ipython3",
   "version": "3.8.3"
  }
 },
 "nbformat": 4,
 "nbformat_minor": 4
}
